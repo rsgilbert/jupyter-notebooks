{
 "cells": [
  {
   "cell_type": "code",
   "execution_count": 1,
   "metadata": {},
   "outputs": [],
   "source": [
    "# BASH\n",
    "# Initialization script for jupyter notebooks"
   ]
  },
  {
   "cell_type": "code",
   "execution_count": 2,
   "metadata": {},
   "outputs": [
    {
     "name": "stdout",
     "output_type": "stream",
     "text": [
      "Initialized empty Git repository in /home/s/Documents/jupyter-notebooks/.git/\n"
     ]
    }
   ],
   "source": [
    "git init"
   ]
  },
  {
   "cell_type": "code",
   "execution_count": 3,
   "metadata": {},
   "outputs": [],
   "source": [
    "git add ."
   ]
  },
  {
   "cell_type": "code",
   "execution_count": 4,
   "metadata": {},
   "outputs": [
    {
     "name": "stdout",
     "output_type": "stream",
     "text": [
      "On branch master\n",
      "\n",
      "No commits yet\n",
      "\n",
      "Changes to be committed:\n",
      "  (use \"git rm --cached <file>...\" to unstage)\n",
      "\n",
      "\t\u001b[32mnew file:   .ipynb_checkpoints/Untitled-checkpoint.ipynb\u001b[m\n",
      "\t\u001b[32mnew file:   .ipynb_checkpoints/Untitled1-checkpoint.ipynb\u001b[m\n",
      "\t\u001b[32mnew file:   Untitled.ipynb\u001b[m\n",
      "\t\u001b[32mnew file:   Untitled1.ipynb\u001b[m\n",
      "\t\u001b[32mnew file:   finance.json\u001b[m\n",
      "\n"
     ]
    }
   ],
   "source": [
    "git status"
   ]
  },
  {
   "cell_type": "code",
   "execution_count": 5,
   "metadata": {},
   "outputs": [
    {
     "name": "stdout",
     "output_type": "stream",
     "text": [
      "[master (root-commit) 6a1636e] Started work on processing finance\n",
      " 5 files changed, 25 insertions(+)\n",
      " create mode 100644 .ipynb_checkpoints/Untitled-checkpoint.ipynb\n",
      " create mode 100644 .ipynb_checkpoints/Untitled1-checkpoint.ipynb\n",
      " create mode 100644 Untitled.ipynb\n",
      " create mode 100644 Untitled1.ipynb\n",
      " create mode 100644 finance.json\n"
     ]
    }
   ],
   "source": [
    "git commit -m \"Started work on processing finance\""
   ]
  },
  {
   "cell_type": "code",
   "execution_count": 6,
   "metadata": {},
   "outputs": [
    {
     "name": "stdout",
     "output_type": "stream",
     "text": [
      "Counting objects: 5, done.\n",
      "Delta compression using up to 4 threads.\n",
      "Compressing objects: 100% (5/5), done.\n",
      "Writing objects: 100% (5/5), 26.17 KiB | 1.31 MiB/s, done.\n",
      "Total 5 (delta 0), reused 0 (delta 0)\n",
      "To github.com:rsgilbert/jupyter-notebooks.git\n",
      " * [new branch]      master -> master\n",
      "Branch 'master' set up to track remote branch 'master' from 'origin'.\n"
     ]
    }
   ],
   "source": [
    "git remote add origin git@github.com:rsgilbert/jupyter-notebooks.git\n",
    "git push -u origin master"
   ]
  },
  {
   "cell_type": "code",
   "execution_count": 7,
   "metadata": {},
   "outputs": [
    {
     "name": "stdout",
     "output_type": "stream",
     "text": [
      "[master e6d1b2c] Finished processing json files, first try. Now going to test by adding records to mongodb\n",
      " 7 files changed, 367 insertions(+), 12 deletions(-)\n",
      " rename .ipynb_checkpoints/{Untitled-checkpoint.ipynb => Finance Processor-checkpoint.ipynb} (100%)\n",
      " rename .ipynb_checkpoints/{Untitled1-checkpoint.ipynb => Jupyter Init-checkpoint.ipynb} (100%)\n",
      " create mode 100644 Finance Processor.ipynb\n",
      " create mode 100644 Jupyter Init.ipynb\n",
      " delete mode 100644 Untitled.ipynb\n",
      " delete mode 100644 Untitled1.ipynb\n",
      " create mode 100644 processed_finances.json\n",
      "Counting objects: 6, done.\n",
      "Delta compression using up to 4 threads.\n",
      "Compressing objects: 100% (6/6), done.\n",
      "Writing objects: 100% (6/6), 36.99 KiB | 2.47 MiB/s, done.\n",
      "Total 6 (delta 0), reused 0 (delta 0)\n",
      "To github.com:rsgilbert/jupyter-notebooks.git\n",
      "   6a1636e..e6d1b2c  master -> master\n"
     ]
    }
   ],
   "source": [
    "git add .\n",
    "git commit -m \"Finished processing json files, first try. Now going to test by adding records to mongodb\"\n",
    "git push"
   ]
  },
  {
   "cell_type": "code",
   "execution_count": 8,
   "metadata": {},
   "outputs": [
    {
     "name": "stdout",
     "output_type": "stream",
     "text": [
      "[master 2c8b76e] Processed and Uploaded records for others\n",
      " 7 files changed, 15274 insertions(+), 228 deletions(-)\n",
      " create mode 100644 .ipynb_checkpoints/Other Processor - uses pandas-checkpoint.ipynb\n",
      " rewrite Finance Processor.ipynb (94%)\n",
      " create mode 100644 Other Processor - uses pandas.ipynb\n",
      " create mode 100644 contacts_by_site.xlsx\n",
      " rewrite processed_finances.json (98%)\n",
      " create mode 100644 processed_others.json\n",
      "Counting objects: 9, done.\n",
      "Delta compression using up to 4 threads.\n",
      "Compressing objects: 100% (9/9), done.\n",
      "Writing objects: 100% (9/9), 729.86 KiB | 2.97 MiB/s, done.\n",
      "Total 9 (delta 2), reused 0 (delta 0)\n",
      "remote: Resolving deltas: 100% (2/2), completed with 2 local objects.\u001b[K\n",
      "To github.com:rsgilbert/jupyter-notebooks.git\n",
      "   e6d1b2c..2c8b76e  master -> master\n"
     ]
    }
   ],
   "source": [
    "git add .\n",
    "git commit -m \"Processed and Uploaded records for others\" \n",
    "git push"
   ]
  },
  {
   "cell_type": "code",
   "execution_count": null,
   "metadata": {},
   "outputs": [],
   "source": []
  }
 ],
 "metadata": {
  "kernelspec": {
   "display_name": "Bash",
   "language": "bash",
   "name": "bash"
  },
  "language_info": {
   "codemirror_mode": "shell",
   "file_extension": ".sh",
   "mimetype": "text/x-sh",
   "name": "bash"
  }
 },
 "nbformat": 4,
 "nbformat_minor": 2
}
